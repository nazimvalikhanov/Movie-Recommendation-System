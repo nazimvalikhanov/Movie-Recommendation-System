{
 "cells": [
  {
   "cell_type": "code",
   "execution_count": 1,
   "id": "f33441ec",
   "metadata": {},
   "outputs": [
    {
     "name": "stderr",
     "output_type": "stream",
     "text": [
      "C:\\Users\\User\\anaconda3\\Lib\\site-packages\\implicit\\cpu\\als.py:95: RuntimeWarning: Intel MKL BLAS is configured to use 4 threads. It is highly recommended to disable its internal threadpool by setting the environment variable 'MKL_NUM_THREADS=1' or by callng 'threadpoolctl.threadpool_limits(1, \"blas\")'. Having MKL use a threadpool can lead to severe performance issues\n",
      "  check_blas_config()\n"
     ]
    },
    {
     "data": {
      "application/vnd.jupyter.widget-view+json": {
       "model_id": "6deda4592b224180a2c8125210c77dec",
       "version_major": 2,
       "version_minor": 0
      },
      "text/plain": [
       "  0%|          | 0/20 [00:00<?, ?it/s]"
      ]
     },
     "metadata": {},
     "output_type": "display_data"
    }
   ],
   "source": [
    "import pandas as pd\n",
    "import numpy as np\n",
    "from sklearn.metrics.pairwise import cosine_similarity\n",
    "from sklearn.feature_extraction.text import TfidfVectorizer\n",
    "from fuzzywuzzy import process\n",
    "from implicit.als import AlternatingLeastSquares\n",
    "import scipy.sparse as sp\n",
    "import pickle  # For saving and loading models\n",
    "\n",
    "# Load datasets\n",
    "movies_df = pd.read_csv(\"movies.csv\").head(50000)\n",
    "rating_df = pd.read_csv(\"ratings.csv\").head(50000)\n",
    "\n",
    "# Ensure ratings correspond to movies within the selected subset\n",
    "rating_df = rating_df[rating_df['Movie_id'].isin(movies_df['id'])]\n",
    "\n",
    "\n",
    "# Step 1: Train Content-Based Filtering Model\n",
    "movies_df[\"combined_features\"] = movies_df[\"genres\"].fillna('') + \" \" + \\\n",
    "                                   movies_df[\"overview\"].fillna(\"\") + \" \" + \\\n",
    "                                   movies_df[\"keywords\"].fillna(\"\")\n",
    "\n",
    "# Train TF-IDF\n",
    "tfidf = TfidfVectorizer(stop_words='english')\n",
    "tfidf_matrix = tfidf.fit_transform(movies_df[\"combined_features\"])\n",
    "cosine_sim = cosine_similarity(tfidf_matrix, tfidf_matrix)\n",
    "\n",
    "# Save TF-IDF model\n",
    "with open(\"tfidf_model.pkl\", \"wb\") as f:\n",
    "    pickle.dump((tfidf, cosine_sim), f)\n",
    "\n",
    "# Step 2: Train Collaborative Filtering Model (ALS)\n",
    "user_movie_matrix = rating_df.pivot(index=\"User_id\", columns=\"Movie_id\", values=\"Rating\").fillna(0)\n",
    "\n",
    "# Align movie IDs between ratings and selected movies\n",
    "user_movie_matrix = user_movie_matrix.loc[:, user_movie_matrix.columns.isin(movies_df[\"id\"])]\n",
    "sparse_matrix = sp.csr_matrix(user_movie_matrix.values)\n",
    "\n",
    "# Train ALS Model\n",
    "als_model = AlternatingLeastSquares(factors=50, regularization=0.1, iterations=20)\n",
    "als_model.fit(sparse_matrix)\n",
    "\n",
    "# Save ALS model\n",
    "with open(\"als_model.pkl\", \"wb\") as f:\n",
    "    pickle.dump((als_model, user_movie_matrix.columns), f)"
   ]
  },
  {
   "cell_type": "code",
   "execution_count": null,
   "id": "12c8cb51",
   "metadata": {},
   "outputs": [],
   "source": []
  },
  {
   "cell_type": "code",
   "execution_count": 4,
   "id": "1882424d",
   "metadata": {},
   "outputs": [],
   "source": [
    "# Load datasets\n",
    "movies_df = pd.read_csv(\"movies.csv\").head(50000)\n",
    "rating_df = pd.read_csv(\"ratings.csv\").head(50000)"
   ]
  },
  {
   "cell_type": "code",
   "execution_count": 1,
   "id": "6f3a1581",
   "metadata": {},
   "outputs": [],
   "source": [
    "import pandas as pd\n",
    "import numpy as np\n",
    "from sklearn.metrics.pairwise import cosine_similarity\n",
    "from sklearn.feature_extraction.text import TfidfVectorizer\n",
    "from fuzzywuzzy import process\n",
    "from implicit.als import AlternatingLeastSquares\n",
    "import scipy.sparse as sp\n",
    "import pickle  # For saving and loading models"
   ]
  },
  {
   "cell_type": "code",
   "execution_count": 2,
   "id": "d07bb4e4",
   "metadata": {},
   "outputs": [],
   "source": [
    "# Load trained models\n",
    "def load_models():\n",
    "    with open(\"tfidf_model.pkl\", \"rb\") as f:\n",
    "        tfidf, cosine_sim = pickle.load(f)\n",
    "    with open(\"als_model.pkl\", \"rb\") as f:\n",
    "        als_model, movie_columns = pickle.load(f)\n",
    "    return tfidf, cosine_sim, als_model, movie_columns"
   ]
  },
  {
   "cell_type": "code",
   "execution_count": 5,
   "id": "30c3c166",
   "metadata": {},
   "outputs": [
    {
     "name": "stdout",
     "output_type": "stream",
     "text": [
      "{'Corrected Movie Title': '2001: A Space Odyssey', 'Recommended Movies': ['2010', 'First Man', 'Conquest of Space', 'Spaceman', 'Journey to Space']}\n"
     ]
    }
   ],
   "source": [
    "# Fuzzy Matching Function\n",
    "def get_closest_match(title):\n",
    "    best_match = process.extractOne(title, movies_df[\"title\"].dropna())[0]\n",
    "    return best_match\n",
    "\n",
    "# Hybrid Recommendation Function\n",
    "def hybrid_recommendation(movie_title, top_n=5):\n",
    "    # Load trained models\n",
    "    tfidf, cosine_sim, als_model, movie_columns = load_models()\n",
    "    \n",
    "    # Correct movie title\n",
    "    correct_movie = get_closest_match(movie_title)\n",
    "    movie_idx = movies_df[movies_df[\"title\"] == correct_movie].index[0]\n",
    "    \n",
    "    # Content-Based Recommendations\n",
    "    content_scores = list(enumerate(cosine_sim[movie_idx]))\n",
    "    content_scores = sorted(content_scores, key=lambda x: x[1], reverse=True)[1:top_n+1]\n",
    "    content_recommendations = [movies_df.iloc[i[0]][\"title\"] for i in content_scores]\n",
    "    \n",
    "    # Collaborative Filtering Recommendations (ALS)\n",
    "    movie_id = movies_df.iloc[movie_idx][\"id\"]\n",
    "    if movie_id in movie_columns:\n",
    "        als_movie_idx = list(movie_columns).index(movie_id)\n",
    "#         scores = als_model.item_factors.to_numpy() @ als_model.item_factors.to_numpy()[als_movie_idx]\n",
    "        scores = als_model.item_factors.dot(als_model.item_factors[als_movie_idx])\n",
    "        colab_indices = np.argsort(scores)[::-1][1:top_n+1]\n",
    "        collaborative_recommendations = [movies_df.iloc[i][\"title\"] for i in colab_indices]\n",
    "    else:\n",
    "        collaborative_recommendations = []\n",
    "    \n",
    "    # Combine recommendations\n",
    "    hybrid_recommendations = list(dict.fromkeys(content_recommendations + collaborative_recommendations))[:top_n]\n",
    "    \n",
    "    return {\n",
    "        \"Corrected Movie Title\": correct_movie,\n",
    "        \"Recommended Movies\": hybrid_recommendations\n",
    "    }\n",
    "\n",
    "# Example usage:\n",
    "movie_input = \"2001: A Space Odyssey\"\n",
    "recommendations = hybrid_recommendation(movie_input)\n",
    "print(recommendations)"
   ]
  },
  {
   "cell_type": "code",
   "execution_count": 4,
   "id": "b8c68680",
   "metadata": {},
   "outputs": [
    {
     "name": "stdout",
     "output_type": "stream",
     "text": [
      "{'Corrected Movie Title': 'Midnight in Paris', 'Recommended Movies': ['Playing It Cool', 'Proof of Love', 'Titanic', 'The Science of Sleep', 'Bottle Shock']}\n"
     ]
    }
   ],
   "source": [
    "# Example usage:\n",
    "movie_input = \"Midnight in Paris\"\n",
    "recommendations = hybrid_recommendation(movie_input)\n",
    "print(recommendations)"
   ]
  },
  {
   "cell_type": "code",
   "execution_count": 5,
   "id": "4824ada8",
   "metadata": {},
   "outputs": [
    {
     "name": "stdout",
     "output_type": "stream",
     "text": [
      "{'Corrected Movie Title': 'Deadpool', 'Recommended Movies': ['Deadpool 2', 'Deadpool & Wolverine', 'Once Upon a Deadpool', 'Deadpool: No Good Deed', \"Gettin' Wet on Wet with Deadpool 2\"]}\n"
     ]
    }
   ],
   "source": [
    "# Example usage:\n",
    "movie_input = \"Deadpool\"\n",
    "recommendations = hybrid_recommendation(movie_input)\n",
    "print(recommendations)"
   ]
  },
  {
   "cell_type": "code",
   "execution_count": null,
   "id": "94d011e7",
   "metadata": {},
   "outputs": [],
   "source": [
    "# Example usage:\n",
    "movie_input = \"Titanic\"\n",
    "recommendations = hybrid_recommendation(movie_input)\n",
    "print(recommendations)"
   ]
  }
 ],
 "metadata": {
  "kernelspec": {
   "display_name": "Python 3 (ipykernel)",
   "language": "python",
   "name": "python3"
  },
  "language_info": {
   "codemirror_mode": {
    "name": "ipython",
    "version": 3
   },
   "file_extension": ".py",
   "mimetype": "text/x-python",
   "name": "python",
   "nbconvert_exporter": "python",
   "pygments_lexer": "ipython3",
   "version": "3.11.7"
  }
 },
 "nbformat": 4,
 "nbformat_minor": 5
}
